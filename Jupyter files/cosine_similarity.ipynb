{
 "cells": [
  {
   "cell_type": "code",
   "execution_count": 129,
   "id": "991c9a5f",
   "metadata": {},
   "outputs": [
    {
     "name": "stdout",
     "output_type": "stream",
     "text": [
      "  (0, 2)\t1\n",
      "  (0, 5)\t1\n",
      "  (0, 3)\t1\n",
      "  (0, 1)\t1\n",
      "  (1, 2)\t1\n",
      "  (1, 4)\t1\n",
      "  (2, 2)\t1\n",
      "  (2, 3)\t1\n",
      "  (2, 0)\t1\n"
     ]
    }
   ],
   "source": [
    "# count word frequency\n",
    "from sklearn.feature_extraction.text import CountVectorizer\n",
    "\n",
    "strings = ['India is second most populated country',\n",
    "           'India has more population',\n",
    "           'India is one of the most populated countries']\n",
    "\n",
    "count_vectorizer = CountVectorizer(stop_words='english')\n",
    "strings = [x.lower() for x in strings]\n",
    "sparse_matrix = count_vectorizer.fit_transform(strings)\n",
    "print(sparse_matrix)"
   ]
  },
  {
   "cell_type": "code",
   "execution_count": 130,
   "id": "f2c2746a",
   "metadata": {},
   "outputs": [
    {
     "name": "stdout",
     "output_type": "stream",
     "text": [
      "[[0 1 1 1 0 1]\n",
      " [0 0 1 0 1 0]\n",
      " [1 0 1 1 0 0]]\n"
     ]
    },
    {
     "data": {
      "text/html": [
       "<div>\n",
       "<style scoped>\n",
       "    .dataframe tbody tr th:only-of-type {\n",
       "        vertical-align: middle;\n",
       "    }\n",
       "\n",
       "    .dataframe tbody tr th {\n",
       "        vertical-align: top;\n",
       "    }\n",
       "\n",
       "    .dataframe thead th {\n",
       "        text-align: right;\n",
       "    }\n",
       "</style>\n",
       "<table border=\"1\" class=\"dataframe\">\n",
       "  <thead>\n",
       "    <tr style=\"text-align: right;\">\n",
       "      <th></th>\n",
       "      <th>countries</th>\n",
       "      <th>country</th>\n",
       "      <th>india</th>\n",
       "      <th>populated</th>\n",
       "      <th>population</th>\n",
       "      <th>second</th>\n",
       "    </tr>\n",
       "  </thead>\n",
       "  <tbody>\n",
       "    <tr>\n",
       "      <th>0</th>\n",
       "      <td>0</td>\n",
       "      <td>1</td>\n",
       "      <td>1</td>\n",
       "      <td>1</td>\n",
       "      <td>0</td>\n",
       "      <td>1</td>\n",
       "    </tr>\n",
       "    <tr>\n",
       "      <th>1</th>\n",
       "      <td>0</td>\n",
       "      <td>0</td>\n",
       "      <td>1</td>\n",
       "      <td>0</td>\n",
       "      <td>1</td>\n",
       "      <td>0</td>\n",
       "    </tr>\n",
       "    <tr>\n",
       "      <th>2</th>\n",
       "      <td>1</td>\n",
       "      <td>0</td>\n",
       "      <td>1</td>\n",
       "      <td>1</td>\n",
       "      <td>0</td>\n",
       "      <td>0</td>\n",
       "    </tr>\n",
       "  </tbody>\n",
       "</table>\n",
       "</div>"
      ],
      "text/plain": [
       "   countries  country  india  populated  population  second\n",
       "0          0        1      1          1           0       1\n",
       "1          0        0      1          0           1       0\n",
       "2          1        0      1          1           0       0"
      ]
     },
     "execution_count": 130,
     "metadata": {},
     "output_type": "execute_result"
    }
   ],
   "source": [
    "import pandas as pd\n",
    "\n",
    "dense_matrix = sparse_matrix.todense()\n",
    "print(dense_matrix)\n",
    "df = pd.DataFrame(dense_matrix,columns=count_vectorizer.get_feature_names_out())\n",
    "df.head(5)"
   ]
  },
  {
   "cell_type": "code",
   "execution_count": 131,
   "id": "d1e27e3a",
   "metadata": {},
   "outputs": [
    {
     "name": "stdout",
     "output_type": "stream",
     "text": [
      "          0         1         2\n",
      "0  1.000000  0.353553  0.577350\n",
      "1  0.353553  1.000000  0.408248\n",
      "2  0.577350  0.408248  1.000000\n"
     ]
    }
   ],
   "source": [
    "# cosine similarity\n",
    "from sklearn.metrics.pairwise import cosine_similarity\n",
    "csDf = pd.DataFrame(cosine_similarity(df,dense_output=True))\n",
    "print(csDf)"
   ]
  },
  {
   "cell_type": "code",
   "execution_count": 132,
   "id": "bd86ef92",
   "metadata": {},
   "outputs": [
    {
     "name": "stdout",
     "output_type": "stream",
     "text": [
      "          0         1         2\n",
      "0  1.000000  0.353553  0.577350\n",
      "1  0.353553  1.000000  0.408248\n",
      "2  0.577350  0.408248  1.000000\n"
     ]
    }
   ],
   "source": [
    "thresholdOfSimilarity = 0.7\n",
    "\n",
    "for i in range(csDf.shape[0]):\n",
    "    for j in range(i+1,csDf.shape[0]):\n",
    "        if csDf[i][j]> thresholdOfSimilarity:\n",
    "            print(j)\n",
    "            csDf.drop(j,inplace=True)\n",
    "            csDf.drop(csDf.columns[j],axis=1,inplace=True)\n",
    "            del(strings[j])\n",
    "            j=j-1\n",
    "print(csDf)"
   ]
  },
  {
   "cell_type": "code",
   "execution_count": 134,
   "id": "d78bf963",
   "metadata": {},
   "outputs": [
    {
     "name": "stdout",
     "output_type": "stream",
     "text": [
      "['india is second most populated country', 'india has more population', 'india is one of the most populated countries']\n"
     ]
    }
   ],
   "source": [
    "print(strings)"
   ]
  }
 ],
 "metadata": {
  "kernelspec": {
   "display_name": "Python 3 (ipykernel)",
   "language": "python",
   "name": "python3"
  },
  "language_info": {
   "codemirror_mode": {
    "name": "ipython",
    "version": 3
   },
   "file_extension": ".py",
   "mimetype": "text/x-python",
   "name": "python",
   "nbconvert_exporter": "python",
   "pygments_lexer": "ipython3",
   "version": "3.8.10"
  }
 },
 "nbformat": 4,
 "nbformat_minor": 5
}
